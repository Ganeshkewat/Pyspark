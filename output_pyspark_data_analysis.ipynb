{
 "cells": [
  {
   "cell_type": "code",
   "execution_count": 1,
   "id": "6b1a85e4",
   "metadata": {},
   "outputs": [],
   "source": [
    "PATH =\"C:\\\\Users\\\\GANESH\\\\Desktop\\\\pyspark\\\\dataset2\\\\\"\n",
    "FILE = \"marketing_sample_for_careerbuilder_usa-careerbuilder_job_listing__20200401_20200630__30k_data.ldjson\""
   ]
  },
  {
   "cell_type": "markdown",
   "id": "3e66a6c0",
   "metadata": {},
   "source": [
    "#### Dendencies"
   ]
  },
  {
   "cell_type": "code",
   "execution_count": 2,
   "id": "3e40421c",
   "metadata": {},
   "outputs": [],
   "source": [
    "import pyspark\n",
    "from pyspark.sql import SparkSession as session\n",
    "from pyspark.sql.functions import *\n",
    "from pyspark.sql.types import *\n",
    "import pandas\n",
    "pandas.set_option(\"display.max.column\",None)\n",
    "import re"
   ]
  },
  {
   "cell_type": "markdown",
   "id": "02d47799",
   "metadata": {},
   "source": [
    "#### Create Spark Session"
   ]
  },
  {
   "cell_type": "code",
   "execution_count": 3,
   "id": "9fa10f54",
   "metadata": {},
   "outputs": [
    {
     "name": "stdout",
     "output_type": "stream",
     "text": [
      "Spark Session Created Successfully\n"
     ]
    }
   ],
   "source": [
    "spark = session.builder.appName(\"job\").getOrCreate()\n",
    "spark_df=spark.read.json(PATH+FILE,primitivesAsString = 'true')\n",
    "print(\"Spark Session Created Successfully\")"
   ]
  },
  {
   "cell_type": "code",
   "execution_count": 4,
   "id": "4d790ffd",
   "metadata": {},
   "outputs": [
    {
     "name": "stdout",
     "output_type": "stream",
     "text": [
      "root\n",
      " |-- city: string (nullable = true)\n",
      " |-- company_description: string (nullable = true)\n",
      " |-- company_name: string (nullable = true)\n",
      " |-- contact_email: string (nullable = true)\n",
      " |-- country: string (nullable = true)\n",
      " |-- crawl_timestamp: string (nullable = true)\n",
      " |-- domain: string (nullable = true)\n",
      " |-- duplicate_status: string (nullable = true)\n",
      " |-- fitness_score: string (nullable = true)\n",
      " |-- geo: string (nullable = true)\n",
      " |-- has_expired: string (nullable = true)\n",
      " |-- html_job_description: string (nullable = true)\n",
      " |-- inferred_city: string (nullable = true)\n",
      " |-- inferred_country: string (nullable = true)\n",
      " |-- inferred_iso2_lang_code: string (nullable = true)\n",
      " |-- inferred_iso3_lang_code: string (nullable = true)\n",
      " |-- inferred_salary_currency: string (nullable = true)\n",
      " |-- inferred_salary_from: string (nullable = true)\n",
      " |-- inferred_salary_time_unit: string (nullable = true)\n",
      " |-- inferred_salary_to: string (nullable = true)\n",
      " |-- inferred_state: string (nullable = true)\n",
      " |-- is_consumed_job: string (nullable = true)\n",
      " |-- job_board: string (nullable = true)\n",
      " |-- job_description: string (nullable = true)\n",
      " |-- job_post_lang: string (nullable = true)\n",
      " |-- job_requirements: string (nullable = true)\n",
      " |-- job_title: string (nullable = true)\n",
      " |-- job_type: string (nullable = true)\n",
      " |-- last_expiry_check_date: string (nullable = true)\n",
      " |-- latest_expiry_check_date: string (nullable = true)\n",
      " |-- post_date: string (nullable = true)\n",
      " |-- postdate_in_indexname_format: string (nullable = true)\n",
      " |-- postdate_yyyymmdd: string (nullable = true)\n",
      " |-- salary_offered: string (nullable = true)\n",
      " |-- site_name: string (nullable = true)\n",
      " |-- state: string (nullable = true)\n",
      " |-- test_contact_email: string (nullable = true)\n",
      " |-- uniq_id: string (nullable = true)\n",
      " |-- url: string (nullable = true)\n",
      " |-- valid_through: string (nullable = true)\n",
      "\n"
     ]
    }
   ],
   "source": [
    "spark_df.printSchema()"
   ]
  },
  {
   "cell_type": "markdown",
   "id": "a5b004e9",
   "metadata": {},
   "source": [
    "#### Drop duplicates and Unused Columns"
   ]
  },
  {
   "cell_type": "code",
   "execution_count": 5,
   "id": "0d2df510",
   "metadata": {},
   "outputs": [],
   "source": [
    "spark_df =spark_df.drop('inferred_city','inferred_iso3_lang_code','inferred_salary_time_unit',\\\n",
    "                        'inferred_iso2_lang_code','inferred_state','last_expiry_check_date',\\\n",
    "                        'postdate_yyyymmdd')"
   ]
  },
  {
   "cell_type": "code",
   "execution_count": 6,
   "id": "38d91ec2",
   "metadata": {},
   "outputs": [
    {
     "name": "stdout",
     "output_type": "stream",
     "text": [
      "+--------------------+--------------------+--------------------+-----------------+----------------+-------------+---+-----------+--------------------+----------------+-------------+--------------------+-------------+--------------------+------------------------+----------+----------------------------+--------------+--------------------+-----+--------------------+--------------------+\n",
      "|                city|        company_name|     crawl_timestamp|           domain|duplicate_status|fitness_score|geo|has_expired|html_job_description|inferred_country|    job_board|     job_description|job_post_lang|           job_title|latest_expiry_check_date| post_date|postdate_in_indexname_format|salary_offered|           site_name|state|             uniq_id|                 url|\n",
      "+--------------------+--------------------+--------------------+-----------------+----------------+-------------+---+-----------+--------------------+----------------+-------------+--------------------+-------------+--------------------+------------------------+----------+----------------------------+--------------+--------------------+-----+--------------------+--------------------+\n",
      "|             Houston|                GPAC|2020-06-26 01:54:...|careerbuilder_com|              NA|           10|usa|      false|<strong>Job Descr...|   United states|careerbuilder|SR. PROJECT MANAG...|        en-us|Asphalt/Concrete ...|              2020-06-26|2020-06-25|                  2020.06.22|              |careerbuilder_usa...|   TX|9a457ef257fecf231...|https://www.caree...|\n",
      "|          Cincinnati|  Amazon Fulfillment|2020-05-17 01:21:...|careerbuilder_com|              NA|           10|usa|      false|<strong>Job Descr...|   United states|careerbuilder|Shifts: Overnight...|        en-us|Amazon Warehouse ...|              2020-05-17|2020-05-16|                  2020.05.11|              |careerbuilder_usa...|   OH|ba471e2faf6f79caf...|https://www.caree...|\n",
      "|             Peabody|  Amazon Fulfillment|2020-06-27 04:53:...|careerbuilder_com|              NA|           10|usa|      false|<strong>Job Descr...|   United states|careerbuilder|Shifts: Early Mor...|        en-us|Amazon Warehouse ...|              2020-06-27|2020-06-26|                  2020.06.22|              |careerbuilder_usa...|   MA|6f00bd02d63c633b5...|https://www.caree...|\n",
      "|             Villard|            Manpower|2020-06-03 01:21:...|careerbuilder_com|              NA|           10|usa|      false|<strong>Job Descr...|   United states|careerbuilder|Do you pride your...|        en-us| Assembly Electrical|              2020-06-03|2020-06-02|                  2020.06.01|  $14.00/ hour|careerbuilder_usa...|   MN|8ad0d00bfa23cfd7b...|https://www.caree...|\n",
      "|           Anchorage|The North West Co...|2020-05-23 01:19:...|careerbuilder_com|              NA|           10|usa|      false|<strong>Job Descr...|   United states|careerbuilder|In your role as G...|        en-us|   Graphics Designer|              2020-05-23|2020-05-22|                  2020.05.22|              |careerbuilder_usa...|   AK|31753dc342a1b2a07...|https://www.caree...|\n",
      "|              Urbana|            Circle K|2020-05-25 10:04:...|careerbuilder_com|              NA|           10|usa|      false|<strong>Job Descr...|   United states|careerbuilder|may change period...|        en-us|Customer Service ...|              2020-05-25|2020-05-24|                  2020.05.22|              |careerbuilder_usa...|   IL|d8bbd27764ff850f5...|https://www.caree...|\n",
      "|South Brunswick T...|Genesis Healthcar...|2020-05-23 01:13:...|careerbuilder_com|              NA|           10|usa|      false|<strong>Job Descr...|   United states|careerbuilder|Genesis HealthCar...|        en-us|        Receptionist|              2020-05-23|2020-05-22|                  2020.05.22|              |careerbuilder_usa...|   NJ|b716cdee3b40360f8...|https://www.caree...|\n",
      "|              Gretna|           Talentify|2020-06-25 01:48:...|careerbuilder_com|              NA|           10|usa|      false|<strong>Job Descr...|   United states|careerbuilder|Location: No 4 We...|        en-us|U-Haul Moving Cen...|              2020-06-25|2020-06-24|                  2020.06.22|              |careerbuilder_usa...|   LA|94e46cabddc4e3027...|https://www.caree...|\n",
      "|            Stockton|                Volt|2020-05-18 01:07:...|careerbuilder_com|              NA|           10|usa|      false|<strong>Job Descr...|   United states|careerbuilder|VOLT has an immed...|        en-us|    Staff Accountant|              2020-05-18|2020-05-17|                  2020.05.11|              |careerbuilder_usa...|   CA|e7da38a3d35f799fd...|https://www.caree...|\n",
      "|               Tampa|               FedEx|2020-05-29 01:16:...|careerbuilder_com|              NA|           10|usa|      false|<strong>Job Descr...|   United states|careerbuilder|Job Title: Packag...|        en-us|Package Handler (...|              2020-05-29|2020-05-28|                  2020.05.22|              |careerbuilder_usa...|   FL|6248457c6236cce48...|https://www.caree...|\n",
      "+--------------------+--------------------+--------------------+-----------------+----------------+-------------+---+-----------+--------------------+----------------+-------------+--------------------+-------------+--------------------+------------------------+----------+----------------------------+--------------+--------------------+-----+--------------------+--------------------+\n",
      "only showing top 10 rows\n",
      "\n"
     ]
    }
   ],
   "source": [
    "def dropnul(spark_df):\n",
    "    null = spark_df.select([count(when(isnan(c) | col(c).isNull(), c)).alias(c) for c in spark_df.columns]).\\\n",
    "          collect()[0].asDict()\n",
    "    col_to_drop = [key for key, value in null.items() if value > 0.7]\n",
    "    spark_df = spark_df.drop(*col_to_drop)\n",
    "    return spark_df\n",
    "dropnul(spark_df)\n",
    "new_spark_df = spark_df.transform(dropnul)\n",
    "new_spark_df.show(10)"
   ]
  },
  {
   "cell_type": "markdown",
   "id": "abbcdb25",
   "metadata": {},
   "source": [
    "calculate number of jobs posted on daily basis, per each city"
   ]
  },
  {
   "cell_type": "code",
   "execution_count": 7,
   "id": "26e227b6",
   "metadata": {},
   "outputs": [],
   "source": [
    "jobs=spark_df.groupBy([\"city\"]).agg(\n",
    "    count(\"post_date\").alias(\"total_jobs_post\"))\n",
    "jobs = jobs.sort(desc(\"total_jobs_post\")) \n",
    "\n",
    "# Convert to Pandas DataFrame and Save to Local\n",
    "josbs_pd_df =jobs.toPandas()\n",
    "josbs_pd_df.to_csv(PATH+'job_posts_data.csv',index=False)"
   ]
  },
  {
   "cell_type": "code",
   "execution_count": 8,
   "id": "19784935",
   "metadata": {},
   "outputs": [
    {
     "name": "stdout",
     "output_type": "stream",
     "text": [
      "Number of jobs Posts by cities on Daily Basis\n",
      "+------------+---------------+\n",
      "|        city|total_jobs_post|\n",
      "+------------+---------------+\n",
      "|      Boston|            262|\n",
      "|     Chicago|            218|\n",
      "|   Charlotte|            216|\n",
      "|  Cincinnati|            212|\n",
      "|    Portland|            212|\n",
      "|  Louisville|            208|\n",
      "|Philadelphia|            185|\n",
      "|    New York|            182|\n",
      "|     Atlanta|            177|\n",
      "|      Denver|            169|\n",
      "+------------+---------------+\n",
      "only showing top 10 rows\n",
      "\n"
     ]
    }
   ],
   "source": [
    "print(\"Number of jobs Posts by cities on Daily Basis\")\n",
    "jobs.show(10)"
   ]
  },
  {
   "cell_type": "markdown",
   "id": "c1b5b40e",
   "metadata": {},
   "source": [
    "calculate average salary per job title and state"
   ]
  },
  {
   "cell_type": "code",
   "execution_count": 9,
   "id": "f0d26854",
   "metadata": {},
   "outputs": [],
   "source": [
    "sal =new_spark_df.select( 'job_title','state',split(\"salary_offered\",\"[$/-]\").getItem(1).cast('double').alias('salary'))\n",
    "sal=sal.na.drop()\n",
    "salary_df =sal.groupBy('job_title','state').agg(avg('salary').alias('salary in $/hour'),count('*').alias('count'))"
   ]
  },
  {
   "cell_type": "code",
   "execution_count": 10,
   "id": "10340be3",
   "metadata": {
    "scrolled": true
   },
   "outputs": [],
   "source": [
    "# Convert to Pandas DataFrame and Save to Local\n",
    "avg_salary = salary_df.na.drop().toPandas()\n",
    "avg_salary.to_csv(PATH+\"avg_salary.csv\", index=False)"
   ]
  },
  {
   "cell_type": "code",
   "execution_count": 11,
   "id": "9f41970a",
   "metadata": {},
   "outputs": [
    {
     "name": "stdout",
     "output_type": "stream",
     "text": [
      "Average salary on the basis of Job title and State\n",
      "+--------------------+-----+----------------+-----+\n",
      "|           job_title|state|salary in $/hour|count|\n",
      "+--------------------+-----+----------------+-----+\n",
      "|      Sr. Accountant|   TX|            30.0|    1|\n",
      "|Animal Care Tecni...|   NC|            15.0|    1|\n",
      "|Traveling Heavy N...|   TX|            14.0|    1|\n",
      "|Billing/ Accounti...|   MN|            20.0|    1|\n",
      "|    Rebar Fabricator|   OH|            15.0|    1|\n",
      "|    Assembler (T518)|   MO|           11.25|    1|\n",
      "|Mechanical Assembler|   TN|            12.0|    1|\n",
      "|           2nd shift|   MD|            13.1|    1|\n",
      "|Customer Service ...|   TN|            11.5|    1|\n",
      "|Manual Machinist ...|   WA|            18.0|    1|\n",
      "+--------------------+-----+----------------+-----+\n",
      "only showing top 10 rows\n",
      "\n"
     ]
    }
   ],
   "source": [
    "print(\"Average salary on the basis of Job title and State\")\n",
    "salary_df.show(10)"
   ]
  },
  {
   "cell_type": "markdown",
   "id": "9a0b21f8",
   "metadata": {},
   "source": [
    "Identify the top 10 most active companies by number of positions opened"
   ]
  },
  {
   "cell_type": "code",
   "execution_count": 12,
   "id": "ed1c8222",
   "metadata": {},
   "outputs": [],
   "source": [
    "company=spark_df.groupBy([\"company_name\"]).agg(count(\"post_date\").alias(\"number_of_position\"))\n",
    "company =company.sort(desc(\"number_of_position\")).limit(10)\n",
    "\n",
    "# Convert to Pandas DataFrame and Save to Local\n",
    "company_pd_df=company.toPandas()\n",
    "company_pd_df.to_csv(PATH+'Top_10_companies.csv',index=False)"
   ]
  },
  {
   "cell_type": "code",
   "execution_count": 13,
   "id": "a40384dd",
   "metadata": {},
   "outputs": [
    {
     "name": "stdout",
     "output_type": "stream",
     "text": [
      "Top 10 Most Active Companies\n",
      "+--------------------+------------------+\n",
      "|        company_name|number_of_position|\n",
      "+--------------------+------------------+\n",
      "|  Amazon Fulfillment|              7501|\n",
      "|                GPAC|               924|\n",
      "|LanguageLine Solu...|               871|\n",
      "|Lowe's Home Impro...|               861|\n",
      "|      CDL Career Now|               545|\n",
      "|  Advance Auto Parts|               492|\n",
      "|             Aerotek|               477|\n",
      "|         Robert Half|               444|\n",
      "|    Driveline Retail|               372|\n",
      "|            Circle K|               334|\n",
      "+--------------------+------------------+\n",
      "\n"
     ]
    }
   ],
   "source": [
    "print(\"Top 10 Most Active Companies\")\n",
    "company.show()"
   ]
  },
  {
   "cell_type": "markdown",
   "id": "06399d76",
   "metadata": {},
   "source": [
    "Create a UDF Function"
   ]
  },
  {
   "cell_type": "code",
   "execution_count": 14,
   "id": "0fe3a4a2",
   "metadata": {
    "scrolled": true
   },
   "outputs": [
    {
     "name": "stdout",
     "output_type": "stream",
     "text": [
      "Execution time: 0.05199766159057617\n"
     ]
    }
   ],
   "source": [
    "#create a UDF function to clean job description from HTML code contained inside\n",
    "# analyze and comment on the performance of the UDF\n",
    "# function. How the performance could be improved\n",
    "import time\n",
    "start_time = time.time()\n",
    "\n",
    "clean_html =udf(lambda row: re.sub(re.compile('<.*?>'), '',row))\n",
    "new_spark_df =new_spark_df.withColumn('html_job_description', clean_html(\"html_job_description\"))\n",
    "print(f\"Execution time: {time.time() - start_time}\")\n",
    "\n",
    "# Using split() function cleanup HTML\n",
    "df2 = new_spark_df.select(split(col(\"html_job_description\"),\"Job Description \",2)\\\n",
    "                          .getItem(1).alias(\"new_job_description\")) \\\n",
    "                           .drop(\"html_job_description\")"
   ]
  },
  {
   "cell_type": "code",
   "execution_count": 15,
   "id": "fb750987",
   "metadata": {},
   "outputs": [
    {
     "name": "stdout",
     "output_type": "stream",
     "text": [
      "SparkSession stopped\n"
     ]
    }
   ],
   "source": [
    "spark.stop()\n",
    "print(\"SparkSession stopped\")"
   ]
  }
 ],
 "metadata": {
  "kernelspec": {
   "display_name": "Python 3 (ipykernel)",
   "language": "python",
   "name": "python3"
  },
  "language_info": {
   "codemirror_mode": {
    "name": "ipython",
    "version": 3
   },
   "file_extension": ".py",
   "mimetype": "text/x-python",
   "name": "python",
   "nbconvert_exporter": "python",
   "pygments_lexer": "ipython3",
   "version": "3.9.7"
  }
 },
 "nbformat": 4,
 "nbformat_minor": 5
}
