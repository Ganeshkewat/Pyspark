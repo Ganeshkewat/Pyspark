{
 "cells": [
  {
   "cell_type": "code",
   "execution_count": 1,
   "id": "6b1a85e4",
   "metadata": {},
   "outputs": [],
   "source": [
    "PATH =\"C:\\\\Users\\\\GANESH\\\\Desktop\\\\pyspark\\\\dataset2\\\\\"\n",
    "FILE = \"marketing_sample_for_careerbuilder_usa-careerbuilder_job_listing__20200401_20200630__30k_data.ldjson\""
   ]
  },
  {
   "cell_type": "markdown",
   "id": "3e66a6c0",
   "metadata": {},
   "source": [
    "#### Dendencies"
   ]
  },
  {
   "cell_type": "code",
   "execution_count": 2,
   "id": "3e40421c",
   "metadata": {},
   "outputs": [],
   "source": [
    "import pyspark\n",
    "from pyspark.sql import SparkSession as session\n",
    "from pyspark.sql.functions import *\n",
    "from pyspark.sql.types import *\n",
    "import pandas\n",
    "pandas.set_option(\"display.max.column\",None)\n",
    "import re"
   ]
  },
  {
   "cell_type": "markdown",
   "id": "02d47799",
   "metadata": {},
   "source": [
    "#### Create Spark Session"
   ]
  },
  {
   "cell_type": "code",
   "execution_count": 3,
   "id": "9fa10f54",
   "metadata": {},
   "outputs": [],
   "source": [
    "spark = session.builder.appName(\"job\").getOrCreate()"
   ]
  },
  {
   "cell_type": "code",
   "execution_count": 4,
   "id": "4d790ffd",
   "metadata": {},
   "outputs": [],
   "source": [
    "df=spark.read.json(PATH+FILE,primitivesAsString = 'true')"
   ]
  },
  {
   "cell_type": "code",
   "execution_count": 5,
   "id": "15dc9949",
   "metadata": {},
   "outputs": [
    {
     "name": "stdout",
     "output_type": "stream",
     "text": [
      "root\n",
      " |-- city: string (nullable = true)\n",
      " |-- company_description: string (nullable = true)\n",
      " |-- company_name: string (nullable = true)\n",
      " |-- contact_email: string (nullable = true)\n",
      " |-- country: string (nullable = true)\n",
      " |-- crawl_timestamp: string (nullable = true)\n",
      " |-- domain: string (nullable = true)\n",
      " |-- duplicate_status: string (nullable = true)\n",
      " |-- fitness_score: string (nullable = true)\n",
      " |-- geo: string (nullable = true)\n",
      " |-- has_expired: string (nullable = true)\n",
      " |-- html_job_description: string (nullable = true)\n",
      " |-- inferred_city: string (nullable = true)\n",
      " |-- inferred_country: string (nullable = true)\n",
      " |-- inferred_iso2_lang_code: string (nullable = true)\n",
      " |-- inferred_iso3_lang_code: string (nullable = true)\n",
      " |-- inferred_salary_currency: string (nullable = true)\n",
      " |-- inferred_salary_from: string (nullable = true)\n",
      " |-- inferred_salary_time_unit: string (nullable = true)\n",
      " |-- inferred_salary_to: string (nullable = true)\n",
      " |-- inferred_state: string (nullable = true)\n",
      " |-- is_consumed_job: string (nullable = true)\n",
      " |-- job_board: string (nullable = true)\n",
      " |-- job_description: string (nullable = true)\n",
      " |-- job_post_lang: string (nullable = true)\n",
      " |-- job_requirements: string (nullable = true)\n",
      " |-- job_title: string (nullable = true)\n",
      " |-- job_type: string (nullable = true)\n",
      " |-- last_expiry_check_date: string (nullable = true)\n",
      " |-- latest_expiry_check_date: string (nullable = true)\n",
      " |-- post_date: string (nullable = true)\n",
      " |-- postdate_in_indexname_format: string (nullable = true)\n",
      " |-- postdate_yyyymmdd: string (nullable = true)\n",
      " |-- salary_offered: string (nullable = true)\n",
      " |-- site_name: string (nullable = true)\n",
      " |-- state: string (nullable = true)\n",
      " |-- test_contact_email: string (nullable = true)\n",
      " |-- uniq_id: string (nullable = true)\n",
      " |-- url: string (nullable = true)\n",
      " |-- valid_through: string (nullable = true)\n",
      "\n"
     ]
    }
   ],
   "source": [
    "df.printSchema()"
   ]
  },
  {
   "cell_type": "markdown",
   "id": "a5b004e9",
   "metadata": {},
   "source": [
    "#### Drop duplicates and Unused Columns"
   ]
  },
  {
   "cell_type": "code",
   "execution_count": 6,
   "id": "0d2df510",
   "metadata": {},
   "outputs": [],
   "source": [
    "df =df.drop('inferred_city','inferred_iso3_lang_code','inferred_salary_time_unit','inferred_iso2_lang_code','inferred_state','last_expiry_check_date','postdate_yyyymmdd')"
   ]
  },
  {
   "cell_type": "code",
   "execution_count": 7,
   "id": "38d91ec2",
   "metadata": {},
   "outputs": [],
   "source": [
    "def dropnul(df):\n",
    "    null = df.select([count(when(isnan(c) | col(c).isNull(), c)).alias(c) for c in df.columns]).collect()[0].asDict()\n",
    "    col_to_drop = [key for key, value in null.items() if value > 0.7]\n",
    "    df = df.drop(*col_to_drop)\n",
    "    return df\n",
    "dropnul(df)\n",
    "df1 = df.transform(dropnul)"
   ]
  },
  {
   "cell_type": "markdown",
   "id": "abbcdb25",
   "metadata": {},
   "source": [
    "calculate number of jobs posted on daily basis, per each city"
   ]
  },
  {
   "cell_type": "code",
   "execution_count": 8,
   "id": "26e227b6",
   "metadata": {},
   "outputs": [
    {
     "name": "stdout",
     "output_type": "stream",
     "text": [
      "+----------+---------------+-------------+\n",
      "|      city|total_jobs_post|max_post_date|\n",
      "+----------+---------------+-------------+\n",
      "|    Boston|            262|   2020-06-29|\n",
      "|   Chicago|            218|   2020-06-29|\n",
      "| Charlotte|            216|   2020-06-26|\n",
      "|  Portland|            212|   2020-06-28|\n",
      "|Cincinnati|            212|   2020-06-28|\n",
      "+----------+---------------+-------------+\n",
      "only showing top 5 rows\n",
      "\n"
     ]
    }
   ],
   "source": [
    "jobs=df.groupBy([\"city\"]).agg(\n",
    "    count(\"post_date\").alias(\"total_jobs_post\"),\\\n",
    "    max(\"post_date\").alias(\"max_post_date\"))\n",
    "jobs = jobs.sort(desc(\"total_jobs_post\")) \n",
    "jobs.show(5)\n",
    "# jobs.toPandas().to_csv(PATH+\"jobs.csv\", index=False)"
   ]
  },
  {
   "cell_type": "markdown",
   "id": "c1b5b40e",
   "metadata": {},
   "source": [
    "calculate average salary per job title and state"
   ]
  },
  {
   "cell_type": "code",
   "execution_count": 9,
   "id": "f0d26854",
   "metadata": {},
   "outputs": [],
   "source": [
    "sal =df1.select( 'job_title','state',split(\"salary_offered\",\"[$/-]\").getItem(1).cast('double').alias('salary'))"
   ]
  },
  {
   "cell_type": "code",
   "execution_count": 10,
   "id": "c105d964",
   "metadata": {},
   "outputs": [],
   "source": [
    "df2 =sal.groupBy('job_title','state').agg(avg('salary').alias('salary'),count('*'))"
   ]
  },
  {
   "cell_type": "code",
   "execution_count": 11,
   "id": "10340be3",
   "metadata": {},
   "outputs": [
    {
     "name": "stdout",
     "output_type": "stream",
     "text": [
      "+------------------------------------------------------+-----+------+--------+\n",
      "|job_title                                             |state|salary|count(1)|\n",
      "+------------------------------------------------------+-----+------+--------+\n",
      "|Sr. Accountant                                        |TX   |30.0  |1       |\n",
      "|Animal Care Tecnician                                 |NC   |15.0  |1       |\n",
      "|Traveling Heavy New Store and Store Reset Merchandiser|TX   |14.0  |1       |\n",
      "|Billing/ Accounting Clerk- Law Firm                   |MN   |20.0  |1       |\n",
      "|Rebar Fabricator                                      |OH   |15.0  |1       |\n",
      "|Assembler (T518)                                      |MO   |11.25 |1       |\n",
      "|Mechanical Assembler                                  |TN   |12.0  |1       |\n",
      "|2nd shift                                             |MD   |13.1  |1       |\n",
      "|Customer Service (Technical Support)                  |TN   |11.5  |1       |\n",
      "|Manual Machinist (Direct Hire! No Contract!)          |WA   |18.0  |1       |\n",
      "+------------------------------------------------------+-----+------+--------+\n",
      "only showing top 10 rows\n",
      "\n"
     ]
    },
    {
     "ename": "AttributeError",
     "evalue": "'NoneType' object has no attribute 'toPandas'",
     "output_type": "error",
     "traceback": [
      "\u001b[1;31m---------------------------------------------------------------------------\u001b[0m",
      "\u001b[1;31mAttributeError\u001b[0m                            Traceback (most recent call last)",
      "\u001b[1;32m~\\AppData\\Local\\Temp/ipykernel_5188/1614087697.py\u001b[0m in \u001b[0;36m<module>\u001b[1;34m\u001b[0m\n\u001b[0;32m      1\u001b[0m \u001b[0mavg_salary\u001b[0m \u001b[1;33m=\u001b[0m \u001b[0mdf2\u001b[0m\u001b[1;33m.\u001b[0m\u001b[0mna\u001b[0m\u001b[1;33m.\u001b[0m\u001b[0mdrop\u001b[0m\u001b[1;33m(\u001b[0m\u001b[1;33m)\u001b[0m\u001b[1;33m.\u001b[0m\u001b[0mshow\u001b[0m\u001b[1;33m(\u001b[0m\u001b[1;36m10\u001b[0m\u001b[1;33m,\u001b[0m\u001b[1;32mFalse\u001b[0m\u001b[1;33m)\u001b[0m\u001b[1;33m\u001b[0m\u001b[1;33m\u001b[0m\u001b[0m\n\u001b[1;32m----> 2\u001b[1;33m \u001b[0mavg_salary\u001b[0m\u001b[1;33m.\u001b[0m\u001b[0mtoPandas\u001b[0m\u001b[1;33m(\u001b[0m\u001b[1;33m)\u001b[0m\u001b[1;33m.\u001b[0m\u001b[0mto_csv\u001b[0m\u001b[1;33m(\u001b[0m\u001b[0mPATH\u001b[0m\u001b[1;33m+\u001b[0m\u001b[1;34m\"avg_salary.csv\"\u001b[0m\u001b[1;33m,\u001b[0m \u001b[0mindex\u001b[0m\u001b[1;33m=\u001b[0m\u001b[1;32mFalse\u001b[0m\u001b[1;33m)\u001b[0m\u001b[1;33m\u001b[0m\u001b[1;33m\u001b[0m\u001b[0m\n\u001b[0m",
      "\u001b[1;31mAttributeError\u001b[0m: 'NoneType' object has no attribute 'toPandas'"
     ]
    }
   ],
   "source": [
    "avg_salary = df2.na.drop().show(10,False)\n",
    "avg_salary.toPandas().to_csv(PATH+\"avg_salary.csv\", index=False)"
   ]
  },
  {
   "cell_type": "markdown",
   "id": "9a0b21f8",
   "metadata": {},
   "source": [
    "Identify the top 10 most active companies by number of positions opened"
   ]
  },
  {
   "cell_type": "code",
   "execution_count": null,
   "id": "ed1c8222",
   "metadata": {},
   "outputs": [],
   "source": [
    "company=df.groupBy([\"company_name\"]).agg(count(\"post_date\").alias(\"number_of_position\"))\n",
    "company =company.sort(desc(\"number_of_position\"))\n",
    "\n",
    "# Using split() function\n",
    "\n",
    "#Convert to Pandas DataFrame\n",
    "pandasDF=company.limit(10).toPandas()\n",
    "print(pandasDF)\n",
    "pandasDF.to_csv(PATH+'Top_10_companies.csv',index=False)"
   ]
  },
  {
   "cell_type": "markdown",
   "id": "06399d76",
   "metadata": {},
   "source": [
    "Create a UDF Function"
   ]
  },
  {
   "cell_type": "code",
   "execution_count": null,
   "id": "0fe3a4a2",
   "metadata": {
    "scrolled": true
   },
   "outputs": [],
   "source": [
    "#create a UDF function to clean job description from HTML code contained inside\n",
    "# analyze and comment on the performance of the UDF\n",
    "# function. How the performance could be improved\n",
    "import time\n",
    "start_time = time.time()\n",
    "\n",
    "clean_html =udf(lambda row: re.sub(re.compile('<.*?>'), '',row))\n",
    "df1 =df1.withColumn('html_job_description', clean_html(\"html_job_description\"))\n",
    "df1.show()\n",
    "print(f\"Execution time: {time.time() - start_time}\")\n",
    "\n",
    "# Using split() function\n",
    "df2 = df1.select(split(col(\"html_job_description\"),\"Job Description \",2).getItem(1).alias(\"job1_description\")) \\\n",
    ".drop(\"html_job_description\")\n",
    "df2.show(2)"
   ]
  },
  {
   "cell_type": "markdown",
   "id": "19d60329",
   "metadata": {},
   "source": [
    "Pyspark to Pandas"
   ]
  },
  {
   "cell_type": "code",
   "execution_count": null,
   "id": "88b68ae7",
   "metadata": {},
   "outputs": [],
   "source": [
    "pdf = df1.toPandas()"
   ]
  },
  {
   "cell_type": "code",
   "execution_count": null,
   "id": "eb177020",
   "metadata": {},
   "outputs": [],
   "source": [
    "pdf.tail(2)"
   ]
  },
  {
   "cell_type": "code",
   "execution_count": null,
   "id": "fb750987",
   "metadata": {},
   "outputs": [],
   "source": [
    "# df2.write.format(\"csv\").save(PATH+\"analys\")"
   ]
  },
  {
   "cell_type": "code",
   "execution_count": null,
   "id": "59c1f9a2",
   "metadata": {},
   "outputs": [],
   "source": []
  },
  {
   "cell_type": "code",
   "execution_count": null,
   "id": "1a01951a",
   "metadata": {},
   "outputs": [],
   "source": []
  },
  {
   "cell_type": "code",
   "execution_count": null,
   "id": "eeb78621",
   "metadata": {},
   "outputs": [],
   "source": []
  }
 ],
 "metadata": {
  "kernelspec": {
   "display_name": "Python 3 (ipykernel)",
   "language": "python",
   "name": "python3"
  },
  "language_info": {
   "codemirror_mode": {
    "name": "ipython",
    "version": 3
   },
   "file_extension": ".py",
   "mimetype": "text/x-python",
   "name": "python",
   "nbconvert_exporter": "python",
   "pygments_lexer": "ipython3",
   "version": "3.9.7"
  }
 },
 "nbformat": 4,
 "nbformat_minor": 5
}
